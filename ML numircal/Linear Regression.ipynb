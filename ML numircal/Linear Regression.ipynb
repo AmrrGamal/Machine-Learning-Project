{
 "cells": [
  {
   "cell_type": "markdown",
   "id": "6414a299",
   "metadata": {},
   "source": [
    "# Linear Regresion:"
   ]
  },
  {
   "cell_type": "code",
   "execution_count": 58,
   "id": "d0be4e59",
   "metadata": {},
   "outputs": [],
   "source": [
    "import pandas as pd\n",
    "import numpy as np\n",
    "import matplotlib.pyplot as plt\n",
    "import seaborn as sns\n",
    "\n",
    "import warnings\n",
    "warnings.filterwarnings('ignore')"
   ]
  },
  {
   "cell_type": "markdown",
   "id": "c8678cec",
   "metadata": {},
   "source": [
    "### Read Data set"
   ]
  },
  {
   "cell_type": "code",
   "execution_count": 59,
   "id": "686cea09",
   "metadata": {},
   "outputs": [
    {
     "data": {
      "text/html": [
       "<div>\n",
       "<style scoped>\n",
       "    .dataframe tbody tr th:only-of-type {\n",
       "        vertical-align: middle;\n",
       "    }\n",
       "\n",
       "    .dataframe tbody tr th {\n",
       "        vertical-align: top;\n",
       "    }\n",
       "\n",
       "    .dataframe thead th {\n",
       "        text-align: right;\n",
       "    }\n",
       "</style>\n",
       "<table border=\"1\" class=\"dataframe\">\n",
       "  <thead>\n",
       "    <tr style=\"text-align: right;\">\n",
       "      <th></th>\n",
       "      <th>Age</th>\n",
       "      <th>Gender</th>\n",
       "      <th>Education Level</th>\n",
       "      <th>Job Title</th>\n",
       "      <th>Years of Experience</th>\n",
       "      <th>Salary</th>\n",
       "    </tr>\n",
       "  </thead>\n",
       "  <tbody>\n",
       "    <tr>\n",
       "      <th>0</th>\n",
       "      <td>24.0</td>\n",
       "      <td>Male</td>\n",
       "      <td>Bachelor's</td>\n",
       "      <td>Sales Representative</td>\n",
       "      <td>3.0</td>\n",
       "      <td>30000.0</td>\n",
       "    </tr>\n",
       "    <tr>\n",
       "      <th>1</th>\n",
       "      <td>25.0</td>\n",
       "      <td>Female</td>\n",
       "      <td>Bachelor's</td>\n",
       "      <td>Data Entry Clerk</td>\n",
       "      <td>3.0</td>\n",
       "      <td>35000.0</td>\n",
       "    </tr>\n",
       "    <tr>\n",
       "      <th>2</th>\n",
       "      <td>25.0</td>\n",
       "      <td>Male</td>\n",
       "      <td>Bachelor's</td>\n",
       "      <td>Help Desk Analyst</td>\n",
       "      <td>3.0</td>\n",
       "      <td>35000.0</td>\n",
       "    </tr>\n",
       "    <tr>\n",
       "      <th>3</th>\n",
       "      <td>26.0</td>\n",
       "      <td>Male</td>\n",
       "      <td>Bachelor's</td>\n",
       "      <td>Junior Accountant</td>\n",
       "      <td>4.0</td>\n",
       "      <td>35000.0</td>\n",
       "    </tr>\n",
       "    <tr>\n",
       "      <th>4</th>\n",
       "      <td>26.0</td>\n",
       "      <td>Male</td>\n",
       "      <td>Bachelor's</td>\n",
       "      <td>Junior Software Developer</td>\n",
       "      <td>4.0</td>\n",
       "      <td>35000.0</td>\n",
       "    </tr>\n",
       "  </tbody>\n",
       "</table>\n",
       "</div>"
      ],
      "text/plain": [
       "    Age  Gender Education Level                  Job Title  \\\n",
       "0  24.0    Male      Bachelor's       Sales Representative   \n",
       "1  25.0  Female      Bachelor's           Data Entry Clerk   \n",
       "2  25.0    Male      Bachelor's          Help Desk Analyst   \n",
       "3  26.0    Male      Bachelor's          Junior Accountant   \n",
       "4  26.0    Male      Bachelor's  Junior Software Developer   \n",
       "\n",
       "   Years of Experience   Salary  \n",
       "0                  3.0  30000.0  \n",
       "1                  3.0  35000.0  \n",
       "2                  3.0  35000.0  \n",
       "3                  4.0  35000.0  \n",
       "4                  4.0  35000.0  "
      ]
     },
     "execution_count": 59,
     "metadata": {},
     "output_type": "execute_result"
    }
   ],
   "source": [
    "data_set =pd.read_csv(\"salary data prediction .csv\")\n",
    "data_set.head()"
   ]
  },
  {
   "cell_type": "code",
   "execution_count": 60,
   "id": "b81d179d",
   "metadata": {},
   "outputs": [
    {
     "data": {
      "text/plain": [
       "(2551, 6)"
      ]
     },
     "execution_count": 60,
     "metadata": {},
     "output_type": "execute_result"
    }
   ],
   "source": [
    "data_set.shape"
   ]
  },
  {
   "cell_type": "markdown",
   "id": "df29e65c",
   "metadata": {},
   "source": [
    "### Remove Duplicates rows"
   ]
  },
  {
   "cell_type": "code",
   "execution_count": 61,
   "id": "b3b593a4",
   "metadata": {},
   "outputs": [],
   "source": [
    "data_set1=data_set.drop_duplicates()"
   ]
  },
  {
   "cell_type": "code",
   "execution_count": 62,
   "id": "8792b07b",
   "metadata": {},
   "outputs": [
    {
     "data": {
      "text/plain": [
       "(2547, 6)"
      ]
     },
     "execution_count": 62,
     "metadata": {},
     "output_type": "execute_result"
    }
   ],
   "source": [
    "data_set1.shape"
   ]
  },
  {
   "cell_type": "code",
   "execution_count": 63,
   "id": "4a63684a",
   "metadata": {},
   "outputs": [
    {
     "name": "stdout",
     "output_type": "stream",
     "text": [
      "<class 'pandas.core.frame.DataFrame'>\n",
      "Int64Index: 2547 entries, 0 to 2550\n",
      "Data columns (total 6 columns):\n",
      " #   Column               Non-Null Count  Dtype  \n",
      "---  ------               --------------  -----  \n",
      " 0   Age                  2536 non-null   float64\n",
      " 1   Gender               2534 non-null   object \n",
      " 2   Education Level      2533 non-null   object \n",
      " 3   Job Title            2534 non-null   object \n",
      " 4   Years of Experience  2545 non-null   float64\n",
      " 5   Salary               2534 non-null   float64\n",
      "dtypes: float64(3), object(3)\n",
      "memory usage: 139.3+ KB\n"
     ]
    }
   ],
   "source": [
    "data_set1.info()"
   ]
  },
  {
   "cell_type": "code",
   "execution_count": 64,
   "id": "f59a1fea",
   "metadata": {},
   "outputs": [
    {
     "data": {
      "text/plain": [
       "Age                    11\n",
       "Gender                 13\n",
       "Education Level        14\n",
       "Job Title              13\n",
       "Years of Experience     2\n",
       "Salary                 13\n",
       "dtype: int64"
      ]
     },
     "execution_count": 64,
     "metadata": {},
     "output_type": "execute_result"
    }
   ],
   "source": [
    "data_set1.isnull().sum()"
   ]
  },
  {
   "cell_type": "markdown",
   "id": "83ac1c50",
   "metadata": {},
   "source": [
    "### Remove nulls values"
   ]
  },
  {
   "cell_type": "code",
   "execution_count": 65,
   "id": "3811c409",
   "metadata": {},
   "outputs": [],
   "source": [
    "data_set1.dropna()\n",
    "data_set1.fillna(data_set1.mean(), inplace=True)"
   ]
  },
  {
   "cell_type": "markdown",
   "id": "10a12a7f",
   "metadata": {},
   "source": [
    "## Visualization and Statistics about dataset"
   ]
  },
  {
   "cell_type": "code",
   "execution_count": 66,
   "id": "895e07e5",
   "metadata": {},
   "outputs": [
    {
     "data": {
      "text/plain": [
       "Text(0.5, 1.0, ' Age vs Salary')"
      ]
     },
     "execution_count": 66,
     "metadata": {},
     "output_type": "execute_result"
    },
    {
     "data": {
      "image/png": "[encoded data removed]",
      "text/plain": [
       "<Figure size 500x400 with 1 Axes>"
      ]
     },
     "metadata": {},
     "output_type": "display_data"
    }
   ],
   "source": [
    "data_set1.plot(kind = 'scatter', x = 'Age', y = 'Salary' , figsize=(5, 4)) \n",
    "plt.title(' Age vs Salary')"
   ]
  },
  {
   "cell_type": "code",
   "execution_count": 67,
   "id": "d624f127",
   "metadata": {},
   "outputs": [
    {
     "data": {
      "text/plain": [
       "Text(0.5, 1.0, ' Years of Experience vs Salary')"
      ]
     },
     "execution_count": 67,
     "metadata": {},
     "output_type": "execute_result"
    },
    {
     "data": {
      "image/png": "[encoded data removed]",
      "text/plain": [
       "<Figure size 500x400 with 1 Axes>"
      ]
     },
     "metadata": {},
     "output_type": "display_data"
    }
   ],
   "source": [
    "data_set1.plot(kind='scatter', x='Years of Experience', y='Salary', figsize=(5, 4)) \n",
    "plt.title(' Years of Experience vs Salary')"
   ]
  },
  {
   "cell_type": "code",
   "execution_count": 68,
   "id": "3644dc92",
   "metadata": {},
   "outputs": [
    {
     "data": {
      "text/plain": [
       "Bachelor's    1470\n",
       "Master's       714\n",
       "PhD            349\n",
       "Name: Education Level, dtype: int64"
      ]
     },
     "execution_count": 68,
     "metadata": {},
     "output_type": "execute_result"
    }
   ],
   "source": [
    "data_set1['Education Level'].value_counts()"
   ]
  },
  {
   "cell_type": "code",
   "execution_count": 69,
   "id": "2e463516",
   "metadata": {},
   "outputs": [
    {
     "data": {
      "text/plain": [
       "Male      1318\n",
       "Female    1216\n",
       "Name: Gender, dtype: int64"
      ]
     },
     "execution_count": 69,
     "metadata": {},
     "output_type": "execute_result"
    }
   ],
   "source": [
    "data_set1['Gender'].value_counts()"
   ]
  },
  {
   "cell_type": "code",
   "execution_count": 70,
   "id": "4def212e",
   "metadata": {},
   "outputs": [
    {
     "data": {
      "text/html": [
       "<div>\n",
       "<style scoped>\n",
       "    .dataframe tbody tr th:only-of-type {\n",
       "        vertical-align: middle;\n",
       "    }\n",
       "\n",
       "    .dataframe tbody tr th {\n",
       "        vertical-align: top;\n",
       "    }\n",
       "\n",
       "    .dataframe thead th {\n",
       "        text-align: right;\n",
       "    }\n",
       "</style>\n",
       "<table border=\"1\" class=\"dataframe\">\n",
       "  <thead>\n",
       "    <tr style=\"text-align: right;\">\n",
       "      <th></th>\n",
       "      <th>Age</th>\n",
       "      <th>Gender</th>\n",
       "      <th>Education Level</th>\n",
       "      <th>Job Title</th>\n",
       "      <th>Years of Experience</th>\n",
       "      <th>Salary</th>\n",
       "    </tr>\n",
       "  </thead>\n",
       "  <tbody>\n",
       "    <tr>\n",
       "      <th>0</th>\n",
       "      <td>24.0</td>\n",
       "      <td>Male</td>\n",
       "      <td>Bachelor's</td>\n",
       "      <td>Sales Representative</td>\n",
       "      <td>3.0</td>\n",
       "      <td>30000.0</td>\n",
       "    </tr>\n",
       "    <tr>\n",
       "      <th>1</th>\n",
       "      <td>25.0</td>\n",
       "      <td>Female</td>\n",
       "      <td>Bachelor's</td>\n",
       "      <td>Data Entry Clerk</td>\n",
       "      <td>3.0</td>\n",
       "      <td>35000.0</td>\n",
       "    </tr>\n",
       "    <tr>\n",
       "      <th>2</th>\n",
       "      <td>25.0</td>\n",
       "      <td>Male</td>\n",
       "      <td>Bachelor's</td>\n",
       "      <td>Help Desk Analyst</td>\n",
       "      <td>3.0</td>\n",
       "      <td>35000.0</td>\n",
       "    </tr>\n",
       "    <tr>\n",
       "      <th>3</th>\n",
       "      <td>26.0</td>\n",
       "      <td>Male</td>\n",
       "      <td>Bachelor's</td>\n",
       "      <td>Junior Accountant</td>\n",
       "      <td>4.0</td>\n",
       "      <td>35000.0</td>\n",
       "    </tr>\n",
       "    <tr>\n",
       "      <th>4</th>\n",
       "      <td>26.0</td>\n",
       "      <td>Male</td>\n",
       "      <td>Bachelor's</td>\n",
       "      <td>Junior Software Developer</td>\n",
       "      <td>4.0</td>\n",
       "      <td>35000.0</td>\n",
       "    </tr>\n",
       "  </tbody>\n",
       "</table>\n",
       "</div>"
      ],
      "text/plain": [
       "    Age  Gender Education Level                  Job Title  \\\n",
       "0  24.0    Male      Bachelor's       Sales Representative   \n",
       "1  25.0  Female      Bachelor's           Data Entry Clerk   \n",
       "2  25.0    Male      Bachelor's          Help Desk Analyst   \n",
       "3  26.0    Male      Bachelor's          Junior Accountant   \n",
       "4  26.0    Male      Bachelor's  Junior Software Developer   \n",
       "\n",
       "   Years of Experience   Salary  \n",
       "0                  3.0  30000.0  \n",
       "1                  3.0  35000.0  \n",
       "2                  3.0  35000.0  \n",
       "3                  4.0  35000.0  \n",
       "4                  4.0  35000.0  "
      ]
     },
     "execution_count": 70,
     "metadata": {},
     "output_type": "execute_result"
    }
   ],
   "source": [
    "data_set1.head()"
   ]
  },
  {
   "cell_type": "markdown",
   "id": "c0e735c3",
   "metadata": {},
   "source": [
    "### Encoding"
   ]
  },
  {
   "cell_type": "code",
   "execution_count": 71,
   "id": "d4359cad",
   "metadata": {},
   "outputs": [
    {
     "data": {
      "text/html": [
       "<div>\n",
       "<style scoped>\n",
       "    .dataframe tbody tr th:only-of-type {\n",
       "        vertical-align: middle;\n",
       "    }\n",
       "\n",
       "    .dataframe tbody tr th {\n",
       "        vertical-align: top;\n",
       "    }\n",
       "\n",
       "    .dataframe thead th {\n",
       "        text-align: right;\n",
       "    }\n",
       "</style>\n",
       "<table border=\"1\" class=\"dataframe\">\n",
       "  <thead>\n",
       "    <tr style=\"text-align: right;\">\n",
       "      <th></th>\n",
       "      <th>Age</th>\n",
       "      <th>Gender</th>\n",
       "      <th>Education Level</th>\n",
       "      <th>Job Title</th>\n",
       "      <th>Years of Experience</th>\n",
       "      <th>Salary</th>\n",
       "    </tr>\n",
       "  </thead>\n",
       "  <tbody>\n",
       "    <tr>\n",
       "      <th>0</th>\n",
       "      <td>24.0</td>\n",
       "      <td>1</td>\n",
       "      <td>0</td>\n",
       "      <td>106</td>\n",
       "      <td>3.0</td>\n",
       "      <td>30000.0</td>\n",
       "    </tr>\n",
       "    <tr>\n",
       "      <th>1</th>\n",
       "      <td>25.0</td>\n",
       "      <td>0</td>\n",
       "      <td>0</td>\n",
       "      <td>18</td>\n",
       "      <td>3.0</td>\n",
       "      <td>35000.0</td>\n",
       "    </tr>\n",
       "    <tr>\n",
       "      <th>2</th>\n",
       "      <td>25.0</td>\n",
       "      <td>1</td>\n",
       "      <td>0</td>\n",
       "      <td>41</td>\n",
       "      <td>3.0</td>\n",
       "      <td>35000.0</td>\n",
       "    </tr>\n",
       "    <tr>\n",
       "      <th>3</th>\n",
       "      <td>26.0</td>\n",
       "      <td>1</td>\n",
       "      <td>0</td>\n",
       "      <td>47</td>\n",
       "      <td>4.0</td>\n",
       "      <td>35000.0</td>\n",
       "    </tr>\n",
       "    <tr>\n",
       "      <th>4</th>\n",
       "      <td>26.0</td>\n",
       "      <td>1</td>\n",
       "      <td>0</td>\n",
       "      <td>76</td>\n",
       "      <td>4.0</td>\n",
       "      <td>35000.0</td>\n",
       "    </tr>\n",
       "  </tbody>\n",
       "</table>\n",
       "</div>"
      ],
      "text/plain": [
       "    Age  Gender  Education Level  Job Title  Years of Experience   Salary\n",
       "0  24.0       1                0        106                  3.0  30000.0\n",
       "1  25.0       0                0         18                  3.0  35000.0\n",
       "2  25.0       1                0         41                  3.0  35000.0\n",
       "3  26.0       1                0         47                  4.0  35000.0\n",
       "4  26.0       1                0         76                  4.0  35000.0"
      ]
     },
     "execution_count": 71,
     "metadata": {},
     "output_type": "execute_result"
    }
   ],
   "source": [
    "from sklearn.preprocessing import LabelEncoder\n",
    "Label_Encoder=LabelEncoder()\n",
    "\n",
    "data_set1[\"Gender\"]=Label_Encoder.fit_transform(data_set1[\"Gender\"])\n",
    "data_set1[\"Education Level\"]=Label_Encoder.fit_transform(data_set1[\"Education Level\"])\n",
    "data_set1[\"Job Title\"]=Label_Encoder.fit_transform(data_set1[\"Job Title\"])\n",
    "data_set1.head()"
   ]
  },
  {
   "cell_type": "markdown",
   "id": "5064972e",
   "metadata": {},
   "source": [
    "### Normalization"
   ]
  },
  {
   "cell_type": "code",
   "execution_count": 72,
   "id": "09008d79",
   "metadata": {},
   "outputs": [
    {
     "data": {
      "text/html": [
       "<div>\n",
       "<style scoped>\n",
       "    .dataframe tbody tr th:only-of-type {\n",
       "        vertical-align: middle;\n",
       "    }\n",
       "\n",
       "    .dataframe tbody tr th {\n",
       "        vertical-align: top;\n",
       "    }\n",
       "\n",
       "    .dataframe thead th {\n",
       "        text-align: right;\n",
       "    }\n",
       "</style>\n",
       "<table border=\"1\" class=\"dataframe\">\n",
       "  <thead>\n",
       "    <tr style=\"text-align: right;\">\n",
       "      <th></th>\n",
       "      <th>Age</th>\n",
       "      <th>Gender</th>\n",
       "      <th>Education Level</th>\n",
       "      <th>Job Title</th>\n",
       "      <th>Years of Experience</th>\n",
       "      <th>Salary</th>\n",
       "    </tr>\n",
       "  </thead>\n",
       "  <tbody>\n",
       "    <tr>\n",
       "      <th>0</th>\n",
       "      <td>-1.873208</td>\n",
       "      <td>1</td>\n",
       "      <td>0</td>\n",
       "      <td>0.318214</td>\n",
       "      <td>-1.389361</td>\n",
       "      <td>30000.0</td>\n",
       "    </tr>\n",
       "    <tr>\n",
       "      <th>1</th>\n",
       "      <td>-1.733653</td>\n",
       "      <td>0</td>\n",
       "      <td>0</td>\n",
       "      <td>-1.543624</td>\n",
       "      <td>-1.389361</td>\n",
       "      <td>35000.0</td>\n",
       "    </tr>\n",
       "    <tr>\n",
       "      <th>2</th>\n",
       "      <td>-1.733653</td>\n",
       "      <td>1</td>\n",
       "      <td>0</td>\n",
       "      <td>-1.057007</td>\n",
       "      <td>-1.389361</td>\n",
       "      <td>35000.0</td>\n",
       "    </tr>\n",
       "    <tr>\n",
       "      <th>3</th>\n",
       "      <td>-1.594098</td>\n",
       "      <td>1</td>\n",
       "      <td>0</td>\n",
       "      <td>-0.930064</td>\n",
       "      <td>-1.242882</td>\n",
       "      <td>35000.0</td>\n",
       "    </tr>\n",
       "    <tr>\n",
       "      <th>4</th>\n",
       "      <td>-1.594098</td>\n",
       "      <td>1</td>\n",
       "      <td>0</td>\n",
       "      <td>-0.316503</td>\n",
       "      <td>-1.242882</td>\n",
       "      <td>35000.0</td>\n",
       "    </tr>\n",
       "  </tbody>\n",
       "</table>\n",
       "</div>"
      ],
      "text/plain": [
       "        Age  Gender  Education Level  Job Title  Years of Experience   Salary\n",
       "0 -1.873208       1                0   0.318214            -1.389361  30000.0\n",
       "1 -1.733653       0                0  -1.543624            -1.389361  35000.0\n",
       "2 -1.733653       1                0  -1.057007            -1.389361  35000.0\n",
       "3 -1.594098       1                0  -0.930064            -1.242882  35000.0\n",
       "4 -1.594098       1                0  -0.316503            -1.242882  35000.0"
      ]
     },
     "execution_count": 72,
     "metadata": {},
     "output_type": "execute_result"
    }
   ],
   "source": [
    "from sklearn.preprocessing import StandardScaler\n",
    "scaler=StandardScaler()\n",
    "data_set1[\"Age\"]=scaler.fit_transform(data_set1[[\"Age\"]])\n",
    "data_set1[\"Years of Experience\"]=scaler.fit_transform(data_set1[[\"Years of Experience\"]])\n",
    "data_set1[\"Job Title\"]=scaler.fit_transform(data_set1[[\"Job Title\"]])\n",
    "\n",
    "data_set1.head()"
   ]
  },
  {
   "cell_type": "code",
   "execution_count": 73,
   "id": "28432f58",
   "metadata": {},
   "outputs": [],
   "source": [
    "X=data_set1[[\"Age\",\"Gender\",\"Education Level\",\"Job Title\",\"Years of Experience\"]]\n",
    "y=data_set1[[\"Salary\"]]"
   ]
  },
  {
   "cell_type": "markdown",
   "id": "28a8412f",
   "metadata": {},
   "source": [
    "### Split Dataset"
   ]
  },
  {
   "cell_type": "code",
   "execution_count": 74,
   "id": "f0bc203c",
   "metadata": {},
   "outputs": [],
   "source": [
    "from sklearn.model_selection import train_test_split\n",
    "X_train,X_test,y_train,y_test=train_test_split(X,y ,test_size=0.2, random_state=42)"
   ]
  },
  {
   "cell_type": "markdown",
   "id": "5d2dc639",
   "metadata": {},
   "source": [
    "### Linear Regression Model"
   ]
  },
  {
   "cell_type": "code",
   "execution_count": 75,
   "id": "3859b70b",
   "metadata": {},
   "outputs": [],
   "source": [
    "from sklearn.model_selection import KFold\n",
    "from sklearn.linear_model import LinearRegression\n",
    "from sklearn.metrics import accuracy_score ,r2_score\n",
    "\n",
    "linear_model = LinearRegression()\n",
    "linear_model.fit(X_train, y_train)\n",
    "    \n",
    "y_pred = linear_model.predict(X_test)\n",
    "\n",
    "r2 = r2_score(y_test, y_pred)\n",
    "\n",
    "\n"
   ]
  },
  {
   "cell_type": "code",
   "execution_count": 76,
   "id": "7dde61bb",
   "metadata": {},
   "outputs": [
    {
     "name": "stdout",
     "output_type": "stream",
     "text": [
      "Average R2 Score is 84.10% :\n"
     ]
    }
   ],
   "source": [
    "from sklearn.metrics import accuracy_score ,r2_score\n",
    "r2 = r2_score(y_test, y_pred)\n",
    "print(\"Average R2 Score is {0:.2f}% :\". format( 100*r2))"
   ]
  },
  {
   "cell_type": "code",
   "execution_count": 77,
   "id": "90d686e7",
   "metadata": {},
   "outputs": [
    {
     "data": {
      "text/plain": [
       "Text(0.5, 1.0, 'Predicted vs Actual Salary (Linear Regression)')"
      ]
     },
     "execution_count": 77,
     "metadata": {},
     "output_type": "execute_result"
    },
    {
     "data": {
      "image/png": "[encoded data removed]",
      "text/plain": [
       "<Figure size 640x480 with 1 Axes>"
      ]
     },
     "metadata": {},
     "output_type": "display_data"
    }
   ],
   "source": [
    "plt.scatter(y_test, y_pred, c='red', label='Predicted')\n",
    "plt.scatter(y_test, y_test, c='blue', label='Actual')\n",
    "\n",
    "plt.xlabel(\"Actual values\")\n",
    "plt.ylabel(\"Predicted values\")\n",
    "plt.grid(True)\n",
    "plt.legend()\n",
    "plt.title('Predicted vs Actual Salary (Linear Regression)')\n",
    "\n"
   ]
  },
  {
   "cell_type": "code",
   "execution_count": null,
   "id": "c8cc06cd",
   "metadata": {},
   "outputs": [],
   "source": []
  },
  {
   "cell_type": "code",
   "execution_count": null,
   "id": "7bbfb6f4",
   "metadata": {},
   "outputs": [],
   "source": []
  }
 ],
 "metadata": {
  "kernelspec": {
   "display_name": "Python 3 (ipykernel)",
   "language": "python",
   "name": "python3"
  },
  "language_info": {
   "codemirror_mode": {
    "name": "ipython",
    "version": 3
   },
   "file_extension": ".py",
   "mimetype": "text/x-python",
   "name": "python",
   "nbconvert_exporter": "python",
   "pygments_lexer": "ipython3",
   "version": "3.11.4"
  }
 },
 "nbformat": 4,
 "nbformat_minor": 5
}
