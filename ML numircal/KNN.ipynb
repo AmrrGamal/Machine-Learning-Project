{
 "cells": [
  {
   "cell_type": "markdown",
   "id": "655ab2cb",
   "metadata": {},
   "source": [
    "# KNN Regresion:"
   ]
  },
  {
   "cell_type": "code",
   "execution_count": 1,
   "id": "5fca0382",
   "metadata": {},
   "outputs": [],
   "source": [
    "import pandas as pd\n",
    "import numpy as np\n",
    "import matplotlib as plt\n",
    "import seaborn as sns\n",
    "import warnings\n",
    "warnings.filterwarnings('ignore')"
   ]
  },
  {
   "cell_type": "code",
   "execution_count": 2,
   "id": "08449787",
   "metadata": {},
   "outputs": [
    {
     "data": {
      "text/html": [
       "<div>\n",
       "<style scoped>\n",
       "    .dataframe tbody tr th:only-of-type {\n",
       "        vertical-align: middle;\n",
       "    }\n",
       "\n",
       "    .dataframe tbody tr th {\n",
       "        vertical-align: top;\n",
       "    }\n",
       "\n",
       "    .dataframe thead th {\n",
       "        text-align: right;\n",
       "    }\n",
       "</style>\n",
       "<table border=\"1\" class=\"dataframe\">\n",
       "  <thead>\n",
       "    <tr style=\"text-align: right;\">\n",
       "      <th></th>\n",
       "      <th>Age</th>\n",
       "      <th>Gender</th>\n",
       "      <th>Education Level</th>\n",
       "      <th>Job Title</th>\n",
       "      <th>Years of Experience</th>\n",
       "      <th>Salary</th>\n",
       "    </tr>\n",
       "  </thead>\n",
       "  <tbody>\n",
       "    <tr>\n",
       "      <th>0</th>\n",
       "      <td>43.0</td>\n",
       "      <td>Male</td>\n",
       "      <td>Bachelor's</td>\n",
       "      <td>Senior IT Project Manager</td>\n",
       "      <td>14.0</td>\n",
       "      <td>130000.0</td>\n",
       "    </tr>\n",
       "    <tr>\n",
       "      <th>1</th>\n",
       "      <td>42.0</td>\n",
       "      <td>Female</td>\n",
       "      <td>Master's</td>\n",
       "      <td>Senior Graphic Designer</td>\n",
       "      <td>15.0</td>\n",
       "      <td>110000.0</td>\n",
       "    </tr>\n",
       "    <tr>\n",
       "      <th>2</th>\n",
       "      <td>37.0</td>\n",
       "      <td>Male</td>\n",
       "      <td>Bachelor's</td>\n",
       "      <td>Software Project Manager</td>\n",
       "      <td>9.0</td>\n",
       "      <td>95000.0</td>\n",
       "    </tr>\n",
       "    <tr>\n",
       "      <th>3</th>\n",
       "      <td>50.0</td>\n",
       "      <td>Female</td>\n",
       "      <td>Bachelor's</td>\n",
       "      <td>Supply Chain Analyst</td>\n",
       "      <td>22.0</td>\n",
       "      <td>130000.0</td>\n",
       "    </tr>\n",
       "    <tr>\n",
       "      <th>4</th>\n",
       "      <td>32.0</td>\n",
       "      <td>Male</td>\n",
       "      <td>Master's</td>\n",
       "      <td>Senior Business Analyst</td>\n",
       "      <td>6.0</td>\n",
       "      <td>90000.0</td>\n",
       "    </tr>\n",
       "  </tbody>\n",
       "</table>\n",
       "</div>"
      ],
      "text/plain": [
       "    Age  Gender Education Level                  Job Title  \\\n",
       "0  43.0    Male      Bachelor's  Senior IT Project Manager   \n",
       "1  42.0  Female        Master's    Senior Graphic Designer   \n",
       "2  37.0    Male      Bachelor's   Software Project Manager   \n",
       "3  50.0  Female      Bachelor's       Supply Chain Analyst   \n",
       "4  32.0    Male        Master's    Senior Business Analyst   \n",
       "\n",
       "   Years of Experience    Salary  \n",
       "0                 14.0  130000.0  \n",
       "1                 15.0  110000.0  \n",
       "2                  9.0   95000.0  \n",
       "3                 22.0  130000.0  \n",
       "4                  6.0   90000.0  "
      ]
     },
     "execution_count": 2,
     "metadata": {},
     "output_type": "execute_result"
    }
   ],
   "source": [
    "data_set1 =pd.read_csv(\"Salary Data1.csv\")\n",
    "data_set1.head()"
   ]
  },
  {
   "cell_type": "code",
   "execution_count": 3,
   "id": "60d8ad2d",
   "metadata": {},
   "outputs": [
    {
     "name": "stdout",
     "output_type": "stream",
     "text": [
      "<class 'pandas.core.frame.DataFrame'>\n",
      "RangeIndex: 2054 entries, 0 to 2053\n",
      "Data columns (total 6 columns):\n",
      " #   Column               Non-Null Count  Dtype  \n",
      "---  ------               --------------  -----  \n",
      " 0   Age                  2051 non-null   float64\n",
      " 1   Gender               2051 non-null   object \n",
      " 2   Education Level      2051 non-null   object \n",
      " 3   Job Title            2051 non-null   object \n",
      " 4   Years of Experience  2051 non-null   float64\n",
      " 5   Salary               2051 non-null   float64\n",
      "dtypes: float64(3), object(3)\n",
      "memory usage: 96.4+ KB\n"
     ]
    }
   ],
   "source": [
    "data_set1.info()"
   ]
  },
  {
   "cell_type": "code",
   "execution_count": 4,
   "id": "b0ba6be1",
   "metadata": {},
   "outputs": [
    {
     "data": {
      "text/plain": [
       "Age                    3\n",
       "Gender                 3\n",
       "Education Level        3\n",
       "Job Title              3\n",
       "Years of Experience    3\n",
       "Salary                 3\n",
       "dtype: int64"
      ]
     },
     "execution_count": 4,
     "metadata": {},
     "output_type": "execute_result"
    }
   ],
   "source": [
    "data_set1.isnull().sum()"
   ]
  },
  {
   "cell_type": "code",
   "execution_count": 5,
   "id": "0793fe0c",
   "metadata": {},
   "outputs": [
    {
     "data": {
      "text/plain": [
       "(2054, 6)"
      ]
     },
     "execution_count": 5,
     "metadata": {},
     "output_type": "execute_result"
    }
   ],
   "source": [
    "data_set1.dropna()\n",
    "data_set1.fillna(data_set1.mean(), inplace=True)\n",
    "data_set1.shape"
   ]
  },
  {
   "cell_type": "code",
   "execution_count": 7,
   "id": "123da257",
   "metadata": {},
   "outputs": [
    {
     "data": {
      "text/plain": [
       "Junior HR Generalist                     110\n",
       "Director of Marketing                    102\n",
       "Software Project Manager                 102\n",
       "Supply Chain Analyst                     102\n",
       "Senior Graphic Designer                  102\n",
       "Senior Business Analyst                   79\n",
       "Senior Financial Analyst                  79\n",
       "Principal Engineer                        75\n",
       "Junior Operations Analyst                 72\n",
       "Sales Manager                             71\n",
       "Senior Product Manager                    71\n",
       "Senior Operations Manager                 70\n",
       "Junior Marketing Coordinator              62\n",
       "Junior Product Manager                    58\n",
       "Senior IT Project Manager                 54\n",
       "Junior Advertising Coordinator            53\n",
       "Customer Service Manager                  49\n",
       "Director of Human Capital                 49\n",
       "Senior Sales Manager                      49\n",
       "Office Manager                            48\n",
       "Junior Marketing Analyst                  48\n",
       "Junior UX Designer                        46\n",
       "Senior Accountant                         40\n",
       "Senior Marketing Director                 40\n",
       "Director of Finance                       31\n",
       "Senior Data Scientist                     31\n",
       "Junior Business Development Associate     31\n",
       "Senior UX Designer                        31\n",
       "Senior Marketing Manager                  31\n",
       "Director of Operations                    31\n",
       "Junior Project Manager                    27\n",
       "Senior Operations Coordinator             27\n",
       "Junior Accountant                         27\n",
       "Senior HR Generalist                      27\n",
       "Sales Operations Manager                  27\n",
       "Marketing Coordinator                     27\n",
       "Senior Software Developer                 27\n",
       "Junior Financial Advisor                  27\n",
       "Senior Marketing Specialist               18\n",
       "Name: Job Title, dtype: int64"
      ]
     },
     "execution_count": 7,
     "metadata": {},
     "output_type": "execute_result"
    }
   ],
   "source": [
    "data_set1['Job Title'].value_counts()"
   ]
  },
  {
   "cell_type": "code",
   "execution_count": 8,
   "id": "5f4d15f3",
   "metadata": {},
   "outputs": [
    {
     "data": {
      "text/plain": [
       "<Axes: >"
      ]
     },
     "execution_count": 8,
     "metadata": {},
     "output_type": "execute_result"
    },
    {
     "data": {
      "image/png": "[encoded data removed]",
      "text/plain": [
       "<Figure size 500x400 with 1 Axes>"
      ]
     },
     "metadata": {},
     "output_type": "display_data"
    }
   ],
   "source": [
    "data_set1['Education Level'].value_counts().plot(kind=\"bar\", figsize=(5, 4))\n"
   ]
  },
  {
   "cell_type": "code",
   "execution_count": 9,
   "id": "cb2e16c7",
   "metadata": {},
   "outputs": [
    {
     "data": {
      "text/plain": [
       "<Axes: >"
      ]
     },
     "execution_count": 9,
     "metadata": {},
     "output_type": "execute_result"
    },
    {
     "data": {
      "image/png": "[encoded data removed]",
      "text/plain": [
       "<Figure size 500x400 with 1 Axes>"
      ]
     },
     "metadata": {},
     "output_type": "display_data"
    }
   ],
   "source": [
    "data_set1['Gender'].value_counts().plot(kind=\"bar\", figsize=(5, 4))\n"
   ]
  },
  {
   "cell_type": "code",
   "execution_count": 10,
   "id": "a5b9ad69",
   "metadata": {},
   "outputs": [
    {
     "data": {
      "text/plain": [
       "<Axes: >"
      ]
     },
     "execution_count": 10,
     "metadata": {},
     "output_type": "execute_result"
    },
    {
     "data": {
      "image/png": "[encoded data removed]",
      "text/plain": [
       "<Figure size 500x400 with 1 Axes>"
      ]
     },
     "metadata": {},
     "output_type": "display_data"
    }
   ],
   "source": [
    "data_set1['Salary'].value_counts().plot(kind=\"box\", figsize=(5, 4))"
   ]
  },
  {
   "cell_type": "code",
   "execution_count": 11,
   "id": "50aecbba",
   "metadata": {},
   "outputs": [
    {
     "data": {
      "text/plain": [
       "<Axes: >"
      ]
     },
     "execution_count": 11,
     "metadata": {},
     "output_type": "execute_result"
    },
    {
     "data": {
      "image/png": "[encoded data removed]",
      "text/plain": [
       "<Figure size 800x800 with 1 Axes>"
      ]
     },
     "metadata": {},
     "output_type": "display_data"
    }
   ],
   "source": [
    "data_set1['Salary'].value_counts().plot(kind=\"bar\", figsize=(8, 8))\n"
   ]
  },
  {
   "cell_type": "code",
   "execution_count": 12,
   "id": "7cf0c2a0",
   "metadata": {},
   "outputs": [
    {
     "data": {
      "text/html": [
       "<div>\n",
       "<style scoped>\n",
       "    .dataframe tbody tr th:only-of-type {\n",
       "        vertical-align: middle;\n",
       "    }\n",
       "\n",
       "    .dataframe tbody tr th {\n",
       "        vertical-align: top;\n",
       "    }\n",
       "\n",
       "    .dataframe thead th {\n",
       "        text-align: right;\n",
       "    }\n",
       "</style>\n",
       "<table border=\"1\" class=\"dataframe\">\n",
       "  <thead>\n",
       "    <tr style=\"text-align: right;\">\n",
       "      <th></th>\n",
       "      <th>Age</th>\n",
       "      <th>Gender</th>\n",
       "      <th>Education Level</th>\n",
       "      <th>Job Title</th>\n",
       "      <th>Years of Experience</th>\n",
       "      <th>Salary</th>\n",
       "    </tr>\n",
       "  </thead>\n",
       "  <tbody>\n",
       "    <tr>\n",
       "      <th>0</th>\n",
       "      <td>43.0</td>\n",
       "      <td>Male</td>\n",
       "      <td>Bachelor's</td>\n",
       "      <td>Senior IT Project Manager</td>\n",
       "      <td>14.0</td>\n",
       "      <td>130000.0</td>\n",
       "    </tr>\n",
       "    <tr>\n",
       "      <th>1</th>\n",
       "      <td>42.0</td>\n",
       "      <td>Female</td>\n",
       "      <td>Master's</td>\n",
       "      <td>Senior Graphic Designer</td>\n",
       "      <td>15.0</td>\n",
       "      <td>110000.0</td>\n",
       "    </tr>\n",
       "    <tr>\n",
       "      <th>2</th>\n",
       "      <td>37.0</td>\n",
       "      <td>Male</td>\n",
       "      <td>Bachelor's</td>\n",
       "      <td>Software Project Manager</td>\n",
       "      <td>9.0</td>\n",
       "      <td>95000.0</td>\n",
       "    </tr>\n",
       "    <tr>\n",
       "      <th>3</th>\n",
       "      <td>50.0</td>\n",
       "      <td>Female</td>\n",
       "      <td>Bachelor's</td>\n",
       "      <td>Supply Chain Analyst</td>\n",
       "      <td>22.0</td>\n",
       "      <td>130000.0</td>\n",
       "    </tr>\n",
       "    <tr>\n",
       "      <th>4</th>\n",
       "      <td>32.0</td>\n",
       "      <td>Male</td>\n",
       "      <td>Master's</td>\n",
       "      <td>Senior Business Analyst</td>\n",
       "      <td>6.0</td>\n",
       "      <td>90000.0</td>\n",
       "    </tr>\n",
       "  </tbody>\n",
       "</table>\n",
       "</div>"
      ],
      "text/plain": [
       "    Age  Gender Education Level                  Job Title  \\\n",
       "0  43.0    Male      Bachelor's  Senior IT Project Manager   \n",
       "1  42.0  Female        Master's    Senior Graphic Designer   \n",
       "2  37.0    Male      Bachelor's   Software Project Manager   \n",
       "3  50.0  Female      Bachelor's       Supply Chain Analyst   \n",
       "4  32.0    Male        Master's    Senior Business Analyst   \n",
       "\n",
       "   Years of Experience    Salary  \n",
       "0                 14.0  130000.0  \n",
       "1                 15.0  110000.0  \n",
       "2                  9.0   95000.0  \n",
       "3                 22.0  130000.0  \n",
       "4                  6.0   90000.0  "
      ]
     },
     "execution_count": 12,
     "metadata": {},
     "output_type": "execute_result"
    }
   ],
   "source": [
    "data_set1.head()"
   ]
  },
  {
   "cell_type": "code",
   "execution_count": 13,
   "id": "842e67ae",
   "metadata": {},
   "outputs": [
    {
     "data": {
      "text/html": [
       "<div>\n",
       "<style scoped>\n",
       "    .dataframe tbody tr th:only-of-type {\n",
       "        vertical-align: middle;\n",
       "    }\n",
       "\n",
       "    .dataframe tbody tr th {\n",
       "        vertical-align: top;\n",
       "    }\n",
       "\n",
       "    .dataframe thead th {\n",
       "        text-align: right;\n",
       "    }\n",
       "</style>\n",
       "<table border=\"1\" class=\"dataframe\">\n",
       "  <thead>\n",
       "    <tr style=\"text-align: right;\">\n",
       "      <th></th>\n",
       "      <th>Age</th>\n",
       "      <th>Gender</th>\n",
       "      <th>Education Level</th>\n",
       "      <th>Job Title</th>\n",
       "      <th>Years of Experience</th>\n",
       "      <th>Salary</th>\n",
       "    </tr>\n",
       "  </thead>\n",
       "  <tbody>\n",
       "    <tr>\n",
       "      <th>0</th>\n",
       "      <td>43.0</td>\n",
       "      <td>1</td>\n",
       "      <td>0</td>\n",
       "      <td>27</td>\n",
       "      <td>14.0</td>\n",
       "      <td>130000.0</td>\n",
       "    </tr>\n",
       "    <tr>\n",
       "      <th>1</th>\n",
       "      <td>42.0</td>\n",
       "      <td>0</td>\n",
       "      <td>1</td>\n",
       "      <td>25</td>\n",
       "      <td>15.0</td>\n",
       "      <td>110000.0</td>\n",
       "    </tr>\n",
       "    <tr>\n",
       "      <th>2</th>\n",
       "      <td>37.0</td>\n",
       "      <td>1</td>\n",
       "      <td>0</td>\n",
       "      <td>37</td>\n",
       "      <td>9.0</td>\n",
       "      <td>95000.0</td>\n",
       "    </tr>\n",
       "    <tr>\n",
       "      <th>3</th>\n",
       "      <td>50.0</td>\n",
       "      <td>0</td>\n",
       "      <td>0</td>\n",
       "      <td>38</td>\n",
       "      <td>22.0</td>\n",
       "      <td>130000.0</td>\n",
       "    </tr>\n",
       "    <tr>\n",
       "      <th>4</th>\n",
       "      <td>32.0</td>\n",
       "      <td>1</td>\n",
       "      <td>1</td>\n",
       "      <td>22</td>\n",
       "      <td>6.0</td>\n",
       "      <td>90000.0</td>\n",
       "    </tr>\n",
       "  </tbody>\n",
       "</table>\n",
       "</div>"
      ],
      "text/plain": [
       "    Age  Gender  Education Level  Job Title  Years of Experience    Salary\n",
       "0  43.0       1                0         27                 14.0  130000.0\n",
       "1  42.0       0                1         25                 15.0  110000.0\n",
       "2  37.0       1                0         37                  9.0   95000.0\n",
       "3  50.0       0                0         38                 22.0  130000.0\n",
       "4  32.0       1                1         22                  6.0   90000.0"
      ]
     },
     "execution_count": 13,
     "metadata": {},
     "output_type": "execute_result"
    }
   ],
   "source": [
    "from sklearn.preprocessing import LabelEncoder\n",
    "Label_Encoder=LabelEncoder()\n",
    "\n",
    "data_set1[\"Gender\"]=Label_Encoder.fit_transform(data_set1[\"Gender\"])\n",
    "data_set1[\"Education Level\"]=Label_Encoder.fit_transform(data_set1[\"Education Level\"])\n",
    "data_set1[\"Job Title\"]=Label_Encoder.fit_transform(data_set1[\"Job Title\"])\n",
    "\n",
    "data_set1.head()"
   ]
  },
  {
   "cell_type": "code",
   "execution_count": 14,
   "id": "55826ecf",
   "metadata": {},
   "outputs": [
    {
     "data": {
      "text/html": [
       "<div>\n",
       "<style scoped>\n",
       "    .dataframe tbody tr th:only-of-type {\n",
       "        vertical-align: middle;\n",
       "    }\n",
       "\n",
       "    .dataframe tbody tr th {\n",
       "        vertical-align: top;\n",
       "    }\n",
       "\n",
       "    .dataframe thead th {\n",
       "        text-align: right;\n",
       "    }\n",
       "</style>\n",
       "<table border=\"1\" class=\"dataframe\">\n",
       "  <thead>\n",
       "    <tr style=\"text-align: right;\">\n",
       "      <th></th>\n",
       "      <th>Age</th>\n",
       "      <th>Gender</th>\n",
       "      <th>Education Level</th>\n",
       "      <th>Job Title</th>\n",
       "      <th>Years of Experience</th>\n",
       "      <th>Salary</th>\n",
       "    </tr>\n",
       "  </thead>\n",
       "  <tbody>\n",
       "    <tr>\n",
       "      <th>0</th>\n",
       "      <td>0.653901</td>\n",
       "      <td>1</td>\n",
       "      <td>0</td>\n",
       "      <td>0.649632</td>\n",
       "      <td>0.422741</td>\n",
       "      <td>130000.0</td>\n",
       "    </tr>\n",
       "    <tr>\n",
       "      <th>1</th>\n",
       "      <td>0.519960</td>\n",
       "      <td>0</td>\n",
       "      <td>1</td>\n",
       "      <td>0.475413</td>\n",
       "      <td>0.566362</td>\n",
       "      <td>110000.0</td>\n",
       "    </tr>\n",
       "    <tr>\n",
       "      <th>2</th>\n",
       "      <td>-0.149745</td>\n",
       "      <td>1</td>\n",
       "      <td>0</td>\n",
       "      <td>1.520728</td>\n",
       "      <td>-0.295365</td>\n",
       "      <td>95000.0</td>\n",
       "    </tr>\n",
       "    <tr>\n",
       "      <th>3</th>\n",
       "      <td>1.591489</td>\n",
       "      <td>0</td>\n",
       "      <td>0</td>\n",
       "      <td>1.607837</td>\n",
       "      <td>1.571711</td>\n",
       "      <td>130000.0</td>\n",
       "    </tr>\n",
       "    <tr>\n",
       "      <th>4</th>\n",
       "      <td>-0.819450</td>\n",
       "      <td>1</td>\n",
       "      <td>1</td>\n",
       "      <td>0.214084</td>\n",
       "      <td>-0.726229</td>\n",
       "      <td>90000.0</td>\n",
       "    </tr>\n",
       "  </tbody>\n",
       "</table>\n",
       "</div>"
      ],
      "text/plain": [
       "        Age  Gender  Education Level  Job Title  Years of Experience    Salary\n",
       "0  0.653901       1                0   0.649632             0.422741  130000.0\n",
       "1  0.519960       0                1   0.475413             0.566362  110000.0\n",
       "2 -0.149745       1                0   1.520728            -0.295365   95000.0\n",
       "3  1.591489       0                0   1.607837             1.571711  130000.0\n",
       "4 -0.819450       1                1   0.214084            -0.726229   90000.0"
      ]
     },
     "execution_count": 14,
     "metadata": {},
     "output_type": "execute_result"
    }
   ],
   "source": [
    "from sklearn.preprocessing import StandardScaler\n",
    "scaler=StandardScaler()\n",
    "\n",
    "from sklearn.preprocessing import StandardScaler\n",
    "scaler=StandardScaler()\n",
    "data_set1[\"Age\"]=scaler.fit_transform(data_set1[[\"Age\"]])\n",
    "data_set1[\"Years of Experience\"]=scaler.fit_transform(data_set1[[\"Years of Experience\"]])\n",
    "data_set1[\"Job Title\"]=scaler.fit_transform(data_set1[[\"Job Title\"]])\n",
    "\n",
    "data_set1.head()"
   ]
  },
  {
   "cell_type": "code",
   "execution_count": 15,
   "id": "6e52785f",
   "metadata": {},
   "outputs": [],
   "source": [
    "X=data_set1[[\"Age\",\"Gender\",\"Education Level\",\"Job Title\",\"Years of Experience\"]]\n",
    "y=data_set1[[\"Salary\"]]"
   ]
  },
  {
   "cell_type": "code",
   "execution_count": 66,
   "id": "cf74845f",
   "metadata": {},
   "outputs": [],
   "source": [
    "from sklearn.model_selection import train_test_split\n",
    "X_train,X_test,y_train,y_test=train_test_split(X,y ,test_size=0.2)"
   ]
  },
  {
   "cell_type": "code",
   "execution_count": 70,
   "id": "af54be28",
   "metadata": {},
   "outputs": [],
   "source": [
    "from sklearn.neighbors import KNeighborsRegressor\n",
    "from sklearn.metrics import accuracy_score ,r2_score\n",
    "\n",
    "\n",
    "knn_regressor = KNeighborsRegressor(n_neighbors=200)\n",
    "knn_regressor.fit(X_train, y_train)\n",
    "y_pred = knn_regressor.predict(X_test)\n",
    "r2 = r2_score(y_test, y_pred)\n",
    "     "
   ]
  },
  {
   "cell_type": "code",
   "execution_count": 71,
   "id": "89594aae",
   "metadata": {},
   "outputs": [
    {
     "name": "stdout",
     "output_type": "stream",
     "text": [
      "Best R2 Score is 99.86% :\n"
     ]
    }
   ],
   "source": [
    "\n",
    "print(\"Best R2 Score is {0:.2f}% :\". format( 100*best_r2))"
   ]
  },
  {
   "cell_type": "code",
   "execution_count": 69,
   "id": "d31febc3",
   "metadata": {},
   "outputs": [
    {
     "data": {
      "text/plain": [
       "Text(0.5, 1.0, 'Predicted vs Actual Salary (KNN Regression)')"
      ]
     },
     "execution_count": 69,
     "metadata": {},
     "output_type": "execute_result"
    },
    {
     "data": {
      "image/png": "[encoded data removed]",
      "text/plain": [
       "<Figure size 640x480 with 1 Axes>"
      ]
     },
     "metadata": {},
     "output_type": "display_data"
    }
   ],
   "source": [
    "import matplotlib.pyplot as plt\n",
    "plt.scatter(y_test, y_pred, c='red', label='Predicted')\n",
    "plt.scatter(y_test, y_test, c='blue', label='Actual')\n",
    "\n",
    "plt.xlabel(\"Actual Salary\")\n",
    "plt.ylabel(\"Predicted Salary\")\n",
    "plt.grid(True)\n",
    "plt.legend()\n",
    "plt.title('Predicted vs Actual Salary (KNN Regression)')\n"
   ]
  },
  {
   "cell_type": "code",
   "execution_count": null,
   "id": "12be9be3",
   "metadata": {},
   "outputs": [],
   "source": []
  },
  {
   "cell_type": "code",
   "execution_count": null,
   "id": "b60a9d0d",
   "metadata": {},
   "outputs": [],
   "source": []
  }
 ],
 "metadata": {
  "kernelspec": {
   "display_name": "Python 3 (ipykernel)",
   "language": "python",
   "name": "python3"
  },
  "language_info": {
   "codemirror_mode": {
    "name": "ipython",
    "version": 3
   },
   "file_extension": ".py",
   "mimetype": "text/x-python",
   "name": "python",
   "nbconvert_exporter": "python",
   "pygments_lexer": "ipython3",
   "version": "3.11.4"
  }
 },
 "nbformat": 4,
 "nbformat_minor": 5
}
