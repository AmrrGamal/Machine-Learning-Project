{
 "cells": [
  {
   "cell_type": "markdown",
   "id": "03905f26",
   "metadata": {},
   "source": [
    "# Ploynomail Regression:"
   ]
  },
  {
   "cell_type": "code",
   "execution_count": 1,
   "id": "0b95deb6",
   "metadata": {},
   "outputs": [],
   "source": [
    "import pandas as pd\n",
    "import numpy as np\n",
    "from sklearn.preprocessing import LabelEncoder, StandardScaler, PolynomialFeatures\n",
    "from sklearn.model_selection import train_test_split\n",
    "from sklearn.linear_model import LinearRegression\n",
    "from sklearn.metrics import r2_score\n",
    "import warnings\n",
    "warnings.filterwarnings('ignore')"
   ]
  },
  {
   "cell_type": "markdown",
   "id": "8aa12565",
   "metadata": {},
   "source": [
    "### Read Data set"
   ]
  },
  {
   "cell_type": "code",
   "execution_count": 2,
   "id": "9dab6648",
   "metadata": {},
   "outputs": [
    {
     "data": {
      "text/html": [
       "<div>\n",
       "<style scoped>\n",
       "    .dataframe tbody tr th:only-of-type {\n",
       "        vertical-align: middle;\n",
       "    }\n",
       "\n",
       "    .dataframe tbody tr th {\n",
       "        vertical-align: top;\n",
       "    }\n",
       "\n",
       "    .dataframe thead th {\n",
       "        text-align: right;\n",
       "    }\n",
       "</style>\n",
       "<table border=\"1\" class=\"dataframe\">\n",
       "  <thead>\n",
       "    <tr style=\"text-align: right;\">\n",
       "      <th></th>\n",
       "      <th>Age</th>\n",
       "      <th>Gender</th>\n",
       "      <th>Education Level</th>\n",
       "      <th>Job Title</th>\n",
       "      <th>Years of Experience</th>\n",
       "      <th>Salary</th>\n",
       "    </tr>\n",
       "  </thead>\n",
       "  <tbody>\n",
       "    <tr>\n",
       "      <th>0</th>\n",
       "      <td>24.0</td>\n",
       "      <td>Male</td>\n",
       "      <td>Bachelor's</td>\n",
       "      <td>Sales Representative</td>\n",
       "      <td>3.0</td>\n",
       "      <td>30000.0</td>\n",
       "    </tr>\n",
       "    <tr>\n",
       "      <th>1</th>\n",
       "      <td>25.0</td>\n",
       "      <td>Female</td>\n",
       "      <td>Bachelor's</td>\n",
       "      <td>Data Entry Clerk</td>\n",
       "      <td>3.0</td>\n",
       "      <td>35000.0</td>\n",
       "    </tr>\n",
       "    <tr>\n",
       "      <th>2</th>\n",
       "      <td>25.0</td>\n",
       "      <td>Male</td>\n",
       "      <td>Bachelor's</td>\n",
       "      <td>Help Desk Analyst</td>\n",
       "      <td>3.0</td>\n",
       "      <td>35000.0</td>\n",
       "    </tr>\n",
       "    <tr>\n",
       "      <th>3</th>\n",
       "      <td>26.0</td>\n",
       "      <td>Male</td>\n",
       "      <td>Bachelor's</td>\n",
       "      <td>Junior Accountant</td>\n",
       "      <td>4.0</td>\n",
       "      <td>35000.0</td>\n",
       "    </tr>\n",
       "    <tr>\n",
       "      <th>4</th>\n",
       "      <td>26.0</td>\n",
       "      <td>Male</td>\n",
       "      <td>Bachelor's</td>\n",
       "      <td>Junior Software Developer</td>\n",
       "      <td>4.0</td>\n",
       "      <td>35000.0</td>\n",
       "    </tr>\n",
       "  </tbody>\n",
       "</table>\n",
       "</div>"
      ],
      "text/plain": [
       "    Age  Gender Education Level                  Job Title  \\\n",
       "0  24.0    Male      Bachelor's       Sales Representative   \n",
       "1  25.0  Female      Bachelor's           Data Entry Clerk   \n",
       "2  25.0    Male      Bachelor's          Help Desk Analyst   \n",
       "3  26.0    Male      Bachelor's          Junior Accountant   \n",
       "4  26.0    Male      Bachelor's  Junior Software Developer   \n",
       "\n",
       "   Years of Experience   Salary  \n",
       "0                  3.0  30000.0  \n",
       "1                  3.0  35000.0  \n",
       "2                  3.0  35000.0  \n",
       "3                  4.0  35000.0  \n",
       "4                  4.0  35000.0  "
      ]
     },
     "execution_count": 2,
     "metadata": {},
     "output_type": "execute_result"
    }
   ],
   "source": [
    "data_set=pd.read_csv(\"salary data prediction .csv\")\n",
    "data_set.head()"
   ]
  },
  {
   "cell_type": "code",
   "execution_count": 3,
   "id": "b1efb7d0",
   "metadata": {},
   "outputs": [
    {
     "data": {
      "text/plain": [
       "(2551, 6)"
      ]
     },
     "execution_count": 3,
     "metadata": {},
     "output_type": "execute_result"
    }
   ],
   "source": [
    "data_set.shape"
   ]
  },
  {
   "cell_type": "markdown",
   "id": "a5d8c2c2",
   "metadata": {},
   "source": [
    "### Remove Duplicates rows"
   ]
  },
  {
   "cell_type": "code",
   "execution_count": 4,
   "id": "990098ee",
   "metadata": {},
   "outputs": [],
   "source": [
    "data_set1=data_set.drop_duplicates()"
   ]
  },
  {
   "cell_type": "code",
   "execution_count": 5,
   "id": "8fc9ce45",
   "metadata": {},
   "outputs": [
    {
     "data": {
      "text/plain": [
       "(2547, 6)"
      ]
     },
     "execution_count": 5,
     "metadata": {},
     "output_type": "execute_result"
    }
   ],
   "source": [
    "data_set1.shape"
   ]
  },
  {
   "cell_type": "code",
   "execution_count": 6,
   "id": "39e3c49b",
   "metadata": {},
   "outputs": [
    {
     "name": "stdout",
     "output_type": "stream",
     "text": [
      "<class 'pandas.core.frame.DataFrame'>\n",
      "Int64Index: 2547 entries, 0 to 2550\n",
      "Data columns (total 6 columns):\n",
      " #   Column               Non-Null Count  Dtype  \n",
      "---  ------               --------------  -----  \n",
      " 0   Age                  2536 non-null   float64\n",
      " 1   Gender               2534 non-null   object \n",
      " 2   Education Level      2533 non-null   object \n",
      " 3   Job Title            2534 non-null   object \n",
      " 4   Years of Experience  2545 non-null   float64\n",
      " 5   Salary               2534 non-null   float64\n",
      "dtypes: float64(3), object(3)\n",
      "memory usage: 139.3+ KB\n"
     ]
    }
   ],
   "source": [
    "data_set1.info()"
   ]
  },
  {
   "cell_type": "code",
   "execution_count": 7,
   "id": "1b76f734",
   "metadata": {},
   "outputs": [
    {
     "data": {
      "text/plain": [
       "Age                    11\n",
       "Gender                 13\n",
       "Education Level        14\n",
       "Job Title              13\n",
       "Years of Experience     2\n",
       "Salary                 13\n",
       "dtype: int64"
      ]
     },
     "execution_count": 7,
     "metadata": {},
     "output_type": "execute_result"
    }
   ],
   "source": [
    "data_set1.isnull().sum()"
   ]
  },
  {
   "cell_type": "markdown",
   "id": "4a1ab5de",
   "metadata": {},
   "source": [
    "### Remove nulls values"
   ]
  },
  {
   "cell_type": "code",
   "execution_count": 8,
   "id": "4646b792",
   "metadata": {},
   "outputs": [],
   "source": [
    "data_set1.dropna()\n",
    "data_set1.fillna(data_set1.mean(), inplace=True)\n"
   ]
  },
  {
   "cell_type": "markdown",
   "id": "f68218bc",
   "metadata": {},
   "source": [
    "## Visualization and Statistics about dataset"
   ]
  },
  {
   "cell_type": "code",
   "execution_count": 11,
   "id": "ef49bdb5",
   "metadata": {
    "scrolled": true
   },
   "outputs": [
    {
     "data": {
      "text/plain": [
       "<Axes: >"
      ]
     },
     "execution_count": 11,
     "metadata": {},
     "output_type": "execute_result"
    },
    {
     "data": {
      "image/png": "[encoded data removed]",
      "text/plain": [
       "<Figure size 700x700 with 1 Axes>"
      ]
     },
     "metadata": {},
     "output_type": "display_data"
    }
   ],
   "source": [
    "data_set1['Years of Experience'].value_counts().plot(kind=\"bar\", figsize=(7, 7))\n"
   ]
  },
  {
   "cell_type": "code",
   "execution_count": 10,
   "id": "26136e27",
   "metadata": {},
   "outputs": [
    {
     "data": {
      "text/plain": [
       "<Axes: >"
      ]
     },
     "execution_count": 10,
     "metadata": {},
     "output_type": "execute_result"
    },
    {
     "data": {
      "image/png": "[encoded data removed]",
      "text/plain": [
       "<Figure size 600x600 with 1 Axes>"
      ]
     },
     "metadata": {},
     "output_type": "display_data"
    }
   ],
   "source": [
    "data_set1['Age'].value_counts().plot(kind=\"bar\", figsize=(6, 6))\n"
   ]
  },
  {
   "cell_type": "code",
   "execution_count": 12,
   "id": "839fe2e0",
   "metadata": {},
   "outputs": [
    {
     "data": {
      "text/html": [
       "<div>\n",
       "<style scoped>\n",
       "    .dataframe tbody tr th:only-of-type {\n",
       "        vertical-align: middle;\n",
       "    }\n",
       "\n",
       "    .dataframe tbody tr th {\n",
       "        vertical-align: top;\n",
       "    }\n",
       "\n",
       "    .dataframe thead th {\n",
       "        text-align: right;\n",
       "    }\n",
       "</style>\n",
       "<table border=\"1\" class=\"dataframe\">\n",
       "  <thead>\n",
       "    <tr style=\"text-align: right;\">\n",
       "      <th></th>\n",
       "      <th>Age</th>\n",
       "      <th>Gender</th>\n",
       "      <th>Education Level</th>\n",
       "      <th>Job Title</th>\n",
       "      <th>Years of Experience</th>\n",
       "      <th>Salary</th>\n",
       "    </tr>\n",
       "  </thead>\n",
       "  <tbody>\n",
       "    <tr>\n",
       "      <th>0</th>\n",
       "      <td>24.0</td>\n",
       "      <td>Male</td>\n",
       "      <td>Bachelor's</td>\n",
       "      <td>Sales Representative</td>\n",
       "      <td>3.0</td>\n",
       "      <td>30000.0</td>\n",
       "    </tr>\n",
       "    <tr>\n",
       "      <th>1</th>\n",
       "      <td>25.0</td>\n",
       "      <td>Female</td>\n",
       "      <td>Bachelor's</td>\n",
       "      <td>Data Entry Clerk</td>\n",
       "      <td>3.0</td>\n",
       "      <td>35000.0</td>\n",
       "    </tr>\n",
       "    <tr>\n",
       "      <th>2</th>\n",
       "      <td>25.0</td>\n",
       "      <td>Male</td>\n",
       "      <td>Bachelor's</td>\n",
       "      <td>Help Desk Analyst</td>\n",
       "      <td>3.0</td>\n",
       "      <td>35000.0</td>\n",
       "    </tr>\n",
       "    <tr>\n",
       "      <th>3</th>\n",
       "      <td>26.0</td>\n",
       "      <td>Male</td>\n",
       "      <td>Bachelor's</td>\n",
       "      <td>Junior Accountant</td>\n",
       "      <td>4.0</td>\n",
       "      <td>35000.0</td>\n",
       "    </tr>\n",
       "    <tr>\n",
       "      <th>4</th>\n",
       "      <td>26.0</td>\n",
       "      <td>Male</td>\n",
       "      <td>Bachelor's</td>\n",
       "      <td>Junior Software Developer</td>\n",
       "      <td>4.0</td>\n",
       "      <td>35000.0</td>\n",
       "    </tr>\n",
       "  </tbody>\n",
       "</table>\n",
       "</div>"
      ],
      "text/plain": [
       "    Age  Gender Education Level                  Job Title  \\\n",
       "0  24.0    Male      Bachelor's       Sales Representative   \n",
       "1  25.0  Female      Bachelor's           Data Entry Clerk   \n",
       "2  25.0    Male      Bachelor's          Help Desk Analyst   \n",
       "3  26.0    Male      Bachelor's          Junior Accountant   \n",
       "4  26.0    Male      Bachelor's  Junior Software Developer   \n",
       "\n",
       "   Years of Experience   Salary  \n",
       "0                  3.0  30000.0  \n",
       "1                  3.0  35000.0  \n",
       "2                  3.0  35000.0  \n",
       "3                  4.0  35000.0  \n",
       "4                  4.0  35000.0  "
      ]
     },
     "execution_count": 12,
     "metadata": {},
     "output_type": "execute_result"
    }
   ],
   "source": [
    "data_set1.head()"
   ]
  },
  {
   "cell_type": "markdown",
   "id": "0faa5616",
   "metadata": {},
   "source": [
    "### Encoding"
   ]
  },
  {
   "cell_type": "code",
   "execution_count": 13,
   "id": "ec2fc54c",
   "metadata": {},
   "outputs": [
    {
     "data": {
      "text/html": [
       "<div>\n",
       "<style scoped>\n",
       "    .dataframe tbody tr th:only-of-type {\n",
       "        vertical-align: middle;\n",
       "    }\n",
       "\n",
       "    .dataframe tbody tr th {\n",
       "        vertical-align: top;\n",
       "    }\n",
       "\n",
       "    .dataframe thead th {\n",
       "        text-align: right;\n",
       "    }\n",
       "</style>\n",
       "<table border=\"1\" class=\"dataframe\">\n",
       "  <thead>\n",
       "    <tr style=\"text-align: right;\">\n",
       "      <th></th>\n",
       "      <th>Age</th>\n",
       "      <th>Gender</th>\n",
       "      <th>Education Level</th>\n",
       "      <th>Job Title</th>\n",
       "      <th>Years of Experience</th>\n",
       "      <th>Salary</th>\n",
       "    </tr>\n",
       "  </thead>\n",
       "  <tbody>\n",
       "    <tr>\n",
       "      <th>0</th>\n",
       "      <td>24.0</td>\n",
       "      <td>1</td>\n",
       "      <td>0</td>\n",
       "      <td>106</td>\n",
       "      <td>3.0</td>\n",
       "      <td>30000.0</td>\n",
       "    </tr>\n",
       "    <tr>\n",
       "      <th>1</th>\n",
       "      <td>25.0</td>\n",
       "      <td>0</td>\n",
       "      <td>0</td>\n",
       "      <td>18</td>\n",
       "      <td>3.0</td>\n",
       "      <td>35000.0</td>\n",
       "    </tr>\n",
       "    <tr>\n",
       "      <th>2</th>\n",
       "      <td>25.0</td>\n",
       "      <td>1</td>\n",
       "      <td>0</td>\n",
       "      <td>41</td>\n",
       "      <td>3.0</td>\n",
       "      <td>35000.0</td>\n",
       "    </tr>\n",
       "    <tr>\n",
       "      <th>3</th>\n",
       "      <td>26.0</td>\n",
       "      <td>1</td>\n",
       "      <td>0</td>\n",
       "      <td>47</td>\n",
       "      <td>4.0</td>\n",
       "      <td>35000.0</td>\n",
       "    </tr>\n",
       "    <tr>\n",
       "      <th>4</th>\n",
       "      <td>26.0</td>\n",
       "      <td>1</td>\n",
       "      <td>0</td>\n",
       "      <td>76</td>\n",
       "      <td>4.0</td>\n",
       "      <td>35000.0</td>\n",
       "    </tr>\n",
       "  </tbody>\n",
       "</table>\n",
       "</div>"
      ],
      "text/plain": [
       "    Age  Gender  Education Level  Job Title  Years of Experience   Salary\n",
       "0  24.0       1                0        106                  3.0  30000.0\n",
       "1  25.0       0                0         18                  3.0  35000.0\n",
       "2  25.0       1                0         41                  3.0  35000.0\n",
       "3  26.0       1                0         47                  4.0  35000.0\n",
       "4  26.0       1                0         76                  4.0  35000.0"
      ]
     },
     "execution_count": 13,
     "metadata": {},
     "output_type": "execute_result"
    }
   ],
   "source": [
    "from sklearn.preprocessing import LabelEncoder\n",
    "Label_Encoder=LabelEncoder()\n",
    "\n",
    "data_set1[\"Gender\"]=Label_Encoder.fit_transform(data_set1[\"Gender\"])\n",
    "data_set1[\"Education Level\"]=Label_Encoder.fit_transform(data_set1[\"Education Level\"])\n",
    "data_set1[\"Job Title\"]=Label_Encoder.fit_transform(data_set1[\"Job Title\"])\n",
    "data_set1.head(5)"
   ]
  },
  {
   "cell_type": "markdown",
   "id": "7caa95d6",
   "metadata": {},
   "source": [
    "### Normalization"
   ]
  },
  {
   "cell_type": "code",
   "execution_count": 14,
   "id": "b7d4f4d4",
   "metadata": {},
   "outputs": [
    {
     "data": {
      "text/html": [
       "<div>\n",
       "<style scoped>\n",
       "    .dataframe tbody tr th:only-of-type {\n",
       "        vertical-align: middle;\n",
       "    }\n",
       "\n",
       "    .dataframe tbody tr th {\n",
       "        vertical-align: top;\n",
       "    }\n",
       "\n",
       "    .dataframe thead th {\n",
       "        text-align: right;\n",
       "    }\n",
       "</style>\n",
       "<table border=\"1\" class=\"dataframe\">\n",
       "  <thead>\n",
       "    <tr style=\"text-align: right;\">\n",
       "      <th></th>\n",
       "      <th>Age</th>\n",
       "      <th>Gender</th>\n",
       "      <th>Education Level</th>\n",
       "      <th>Job Title</th>\n",
       "      <th>Years of Experience</th>\n",
       "      <th>Salary</th>\n",
       "    </tr>\n",
       "  </thead>\n",
       "  <tbody>\n",
       "    <tr>\n",
       "      <th>0</th>\n",
       "      <td>-1.873208</td>\n",
       "      <td>1</td>\n",
       "      <td>0</td>\n",
       "      <td>0.318214</td>\n",
       "      <td>-1.389361</td>\n",
       "      <td>30000.0</td>\n",
       "    </tr>\n",
       "    <tr>\n",
       "      <th>1</th>\n",
       "      <td>-1.733653</td>\n",
       "      <td>0</td>\n",
       "      <td>0</td>\n",
       "      <td>-1.543624</td>\n",
       "      <td>-1.389361</td>\n",
       "      <td>35000.0</td>\n",
       "    </tr>\n",
       "    <tr>\n",
       "      <th>2</th>\n",
       "      <td>-1.733653</td>\n",
       "      <td>1</td>\n",
       "      <td>0</td>\n",
       "      <td>-1.057007</td>\n",
       "      <td>-1.389361</td>\n",
       "      <td>35000.0</td>\n",
       "    </tr>\n",
       "    <tr>\n",
       "      <th>3</th>\n",
       "      <td>-1.594098</td>\n",
       "      <td>1</td>\n",
       "      <td>0</td>\n",
       "      <td>-0.930064</td>\n",
       "      <td>-1.242882</td>\n",
       "      <td>35000.0</td>\n",
       "    </tr>\n",
       "    <tr>\n",
       "      <th>4</th>\n",
       "      <td>-1.594098</td>\n",
       "      <td>1</td>\n",
       "      <td>0</td>\n",
       "      <td>-0.316503</td>\n",
       "      <td>-1.242882</td>\n",
       "      <td>35000.0</td>\n",
       "    </tr>\n",
       "  </tbody>\n",
       "</table>\n",
       "</div>"
      ],
      "text/plain": [
       "        Age  Gender  Education Level  Job Title  Years of Experience   Salary\n",
       "0 -1.873208       1                0   0.318214            -1.389361  30000.0\n",
       "1 -1.733653       0                0  -1.543624            -1.389361  35000.0\n",
       "2 -1.733653       1                0  -1.057007            -1.389361  35000.0\n",
       "3 -1.594098       1                0  -0.930064            -1.242882  35000.0\n",
       "4 -1.594098       1                0  -0.316503            -1.242882  35000.0"
      ]
     },
     "execution_count": 14,
     "metadata": {},
     "output_type": "execute_result"
    }
   ],
   "source": [
    "from sklearn.preprocessing import StandardScaler\n",
    "scaler=StandardScaler()\n",
    "data_set1[\"Age\"]=scaler.fit_transform(data_set1[[\"Age\"]])\n",
    "data_set1[\"Years of Experience\"]=scaler.fit_transform(data_set1[[\"Years of Experience\"]])\n",
    "data_set1[\"Job Title\"]=scaler.fit_transform(data_set1[[\"Job Title\"]])\n",
    "\n",
    "data_set1.head()"
   ]
  },
  {
   "cell_type": "code",
   "execution_count": 15,
   "id": "02e060af",
   "metadata": {},
   "outputs": [],
   "source": [
    "X = data_set1[[\"Age\", \"Gender\", \"Education Level\", \"Job Title\", \"Years of Experience\"]]\n",
    "y = data_set1[\"Salary\"]\n"
   ]
  },
  {
   "cell_type": "markdown",
   "id": "53c765a5",
   "metadata": {},
   "source": [
    "### Split Dataset"
   ]
  },
  {
   "cell_type": "code",
   "execution_count": 16,
   "id": "a79def5c",
   "metadata": {},
   "outputs": [],
   "source": [
    "from sklearn.model_selection import train_test_split\n",
    "X_train,X_test,y_train,y_test=train_test_split(X,y ,test_size=0.2,random_state=42)"
   ]
  },
  {
   "cell_type": "markdown",
   "id": "747d2485",
   "metadata": {},
   "source": [
    "### Ploynomail Regression Model"
   ]
  },
  {
   "cell_type": "code",
   "execution_count": 17,
   "id": "9ec8d005",
   "metadata": {},
   "outputs": [],
   "source": [
    "poly = PolynomialFeatures(degree=2)  \n",
    "X_train_poly = poly.fit_transform(X_train)\n",
    "X_test_poly = poly.transform(X_test)\n",
    "poly_model = LinearRegression()\n",
    "poly_model.fit(X_train_poly, y_train)\n",
    "y_pred_poly = poly_model.predict(X_test_poly)"
   ]
  },
  {
   "cell_type": "code",
   "execution_count": 19,
   "id": "a43dfe77",
   "metadata": {},
   "outputs": [
    {
     "name": "stdout",
     "output_type": "stream",
     "text": [
      "R-squared (Polynomial Regression) is 84.79% :\n"
     ]
    }
   ],
   "source": [
    "from sklearn.metrics import r2_score\n",
    "r2_poly = r2_score(y_test, y_pred_poly)\n",
    "print(\"R-squared (Polynomial Regression) is {0:.2f}% :\". format( 100*r2_poly))"
   ]
  }
 ],
 "metadata": {
  "kernelspec": {
   "display_name": "Python 3 (ipykernel)",
   "language": "python",
   "name": "python3"
  },
  "language_info": {
   "codemirror_mode": {
    "name": "ipython",
    "version": 3
   },
   "file_extension": ".py",
   "mimetype": "text/x-python",
   "name": "python",
   "nbconvert_exporter": "python",
   "pygments_lexer": "ipython3",
   "version": "3.11.4"
  }
 },
 "nbformat": 4,
 "nbformat_minor": 5
}
